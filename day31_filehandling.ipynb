{
 "cells": [
  {
   "cell_type": "markdown",
   "id": "77d6d038",
   "metadata": {},
   "source": [
    "## Some Theory"
   ]
  },
  {
   "cell_type": "markdown",
   "id": "a335e96d",
   "metadata": {},
   "source": [
    "Type of data used for I/0"
   ]
  },
  {
   "cell_type": "markdown",
   "id": "e3fc2c34",
   "metadata": {},
   "source": [
    "  . Text - '12345' as a sequence of unicode chars\n",
    "  \n",
    "  . Binary - '12345' as a sequence of bytes of its binary equivalent"
   ]
  },
  {
   "cell_type": "markdown",
   "id": "3221c3a5",
   "metadata": {},
   "source": [
    "Hence there are 2 file types to deal with"
   ]
  },
  {
   "cell_type": "markdown",
   "id": "70171690",
   "metadata": {},
   "source": [
    " 1.Text files -  All program files are text files\n",
    "\n",
    " 2.Binary files - Images , music , video , exe files"
   ]
  },
  {
   "cell_type": "markdown",
   "id": "7c0f46f9",
   "metadata": {},
   "source": [
    "# How File I/O is done in most programming language"
   ]
  },
  {
   "cell_type": "markdown",
   "id": "1ef4d0e7",
   "metadata": {},
   "source": [
    "  1. Open a file\n",
    "  2. Read/write data\n",
    "  3. Close the file"
   ]
  },
  {
   "cell_type": "markdown",
   "id": "f0c38f14",
   "metadata": {},
   "source": [
    "WRiting to a file"
   ]
  },
  {
   "cell_type": "code",
   "execution_count": 8,
   "id": "1ed4af42",
   "metadata": {},
   "outputs": [
    {
     "ename": "ValueError",
     "evalue": "I/O operation on closed file.",
     "output_type": "error",
     "traceback": [
      "\u001b[31m---------------------------------------------------------------------------\u001b[39m",
      "\u001b[31mValueError\u001b[39m                                Traceback (most recent call last)",
      "\u001b[36mCell\u001b[39m\u001b[36m \u001b[39m\u001b[32mIn[8]\u001b[39m\u001b[32m, line 8\u001b[39m\n\u001b[32m      5\u001b[39m f.close()\n\u001b[32m      7\u001b[39m \u001b[38;5;66;03m# since file is closed this will not work\u001b[39;00m\n\u001b[32m----> \u001b[39m\u001b[32m8\u001b[39m \u001b[43mf\u001b[49m\u001b[43m.\u001b[49m\u001b[43mwrite\u001b[49m\u001b[43m(\u001b[49m\u001b[33;43m'\u001b[39;49m\u001b[33;43mHello\u001b[39;49m\u001b[33;43m'\u001b[39;49m\u001b[43m)\u001b[49m\n",
      "\u001b[31mValueError\u001b[39m: I/O operation on closed file."
     ]
    }
   ],
   "source": [
    "# case 1 - if the file is not present\n",
    "\n",
    "f = open('sample.txt', 'w') # w since we want to write to the file\n",
    "f.write('Hello World!')\n",
    "f.close()\n",
    "\n",
    "# since file is closed this will not work\n",
    "f.write('Hello')"
   ]
  },
  {
   "cell_type": "code",
   "execution_count": null,
   "id": "6b355edf",
   "metadata": {},
   "outputs": [
    {
     "data": {
      "text/plain": [
       "20"
      ]
     },
     "execution_count": 10,
     "metadata": {},
     "output_type": "execute_result"
    }
   ],
   "source": [
    "# write multiple strings\n",
    "f = open('sample1.txt', 'w')  # a for appending to the file\n",
    "f.write('Hello again!\\n')\n",
    "f.write('This is a new line.\\n')\n",
    "f.close()"
   ]
  },
  {
   "cell_type": "code",
   "execution_count": null,
   "id": "b022b43d",
   "metadata": {},
   "outputs": [],
   "source": [
    "## case 2 - if the file is present\n",
    "f = open('sample.txt', 'w')  # w will overwrite the existing content\n",
    "f.write('Appending another line.\\n')\n",
    "f.close()\n",
    "# if we go on writing to the file, it will overwrite the existing content\n"
   ]
  },
  {
   "cell_type": "code",
   "execution_count": 12,
   "id": "7dc8a421",
   "metadata": {},
   "outputs": [],
   "source": [
    "# how exactly open() works\n",
    "# as it sees open it opens the file in ram inside the buffer memory\n",
    "# and when it is closed, it releases the memory\n"
   ]
  },
  {
   "cell_type": "code",
   "execution_count": 13,
   "id": "2bb52358",
   "metadata": {},
   "outputs": [],
   "source": [
    "# introducing append mode\n",
    "f = open('sample.txt', 'a')  # a for appending to the file\n",
    "f.write('Appending a new line.\\n')\n",
    "f.close()"
   ]
  },
  {
   "cell_type": "code",
   "execution_count": 16,
   "id": "f24a8cb2",
   "metadata": {},
   "outputs": [],
   "source": [
    "# write multiple lines at once\n",
    "l = ['hi', 'hello\\n', 'how are you?\\n']\n",
    "f = open('sample.txt', 'a')  # a for appending to the file\n",
    "\n",
    "f.writelines(l)  # writelines writes a list of strings to the file\n",
    "f.close()"
   ]
  },
  {
   "cell_type": "code",
   "execution_count": 17,
   "id": "0ff73254",
   "metadata": {},
   "outputs": [],
   "source": [
    "# we use f.close() to close the file after writing\n",
    "# this is important to ensure that all data is written to the file and resources are released\n",
    "# if we don't close the file, it may lead to data loss or corruption\n",
    "# someone can access the file while it is open and modify it\n",
    "# so it is a good practice to always close the file after writing to it"
   ]
  },
  {
   "cell_type": "code",
   "execution_count": 18,
   "id": "bfd6a86d",
   "metadata": {},
   "outputs": [
    {
     "name": "stdout",
     "output_type": "stream",
     "text": [
      "Appending another line.\n",
      "Appending a new line.\n",
      "hihello\n",
      "how are you?\n",
      "hihello\n",
      "how are you?\n",
      "hihello\n",
      "how are you?\n",
      "\n"
     ]
    }
   ],
   "source": [
    "# reading from files\n",
    "# -> using read() method\n",
    "f = open('sample.txt', 'r')  # r for reading the file\n",
    "s = f.read()  \n",
    "print(s)  # prints the entire content of the file\n",
    "f.close()"
   ]
  },
  {
   "cell_type": "code",
   "execution_count": 20,
   "id": "dd964183",
   "metadata": {},
   "outputs": [
    {
     "name": "stdout",
     "output_type": "stream",
     "text": [
      "Appen\n"
     ]
    }
   ],
   "source": [
    "# reading upto n characters\n",
    "f = open('sample.txt', 'r')\n",
    "s = f.read(5)  # reads the first 5 characters\n",
    "print(s)  # prints \n",
    "f.close()"
   ]
  },
  {
   "cell_type": "code",
   "execution_count": 23,
   "id": "49292eab",
   "metadata": {},
   "outputs": [
    {
     "name": "stdout",
     "output_type": "stream",
     "text": [
      "Appending another line.\n",
      "Appending a new line.\n",
      " "
     ]
    }
   ],
   "source": [
    "# read line by line\n",
    "f = open('sample.txt', 'r')\n",
    "s = f.readline()  # reads the first line\n",
    "print(s , end= \"\")  # prints the first line\n",
    "s = f.readline()  # reads the second line\n",
    "print(s , end = \" \")  # prints the second line\n",
    "f.close()"
   ]
  },
  {
   "cell_type": "code",
   "execution_count": 24,
   "id": "733fadf4",
   "metadata": {},
   "outputs": [
    {
     "name": "stdout",
     "output_type": "stream",
     "text": [
      "Appending another line.\n",
      "Appending a new line.\n",
      "hihello\n",
      "how are you?\n",
      "hihello\n",
      "how are you?\n",
      "hihello\n",
      "how are you?\n"
     ]
    }
   ],
   "source": [
    "# reading all lines at once\n",
    "f = open('sample.txt', 'r')\n",
    "lines = f.readlines()  # reads all lines into a list\n",
    "for line in lines:\n",
    "    print(line, end='')  # prints each line\n",
    "f.close()"
   ]
  },
  {
   "cell_type": "markdown",
   "id": "251cd7bc",
   "metadata": {},
   "source": [
    "# Using Context Manager(with)\n",
    "\n",
    "    1. Its a good idea to close a file after usage as it will free up the resources\n",
    "    2. If we dont close it, garbage collector would close it \n",
    "    3. with keyword closes the file as soon as the usage is over"
   ]
  },
  {
   "cell_type": "code",
   "execution_count": 26,
   "id": "fb6255ca",
   "metadata": {},
   "outputs": [],
   "source": [
    "# with\n",
    "with open('sample.txt', 'w') as f:  # using with statement to open the file\n",
    "    f.write('Selmon Bhai')"
   ]
  },
  {
   "cell_type": "code",
   "execution_count": 28,
   "id": "a813d850",
   "metadata": {},
   "outputs": [
    {
     "name": "stdout",
     "output_type": "stream",
     "text": [
      "Selmon Bhai\n"
     ]
    }
   ],
   "source": [
    "# try f.read() now\n",
    "with open('sample.txt', 'r') as f:  # using with statement to read the file\n",
    "    content = f.read() # reads the entire content of the file\n",
    "    print(content)  # prints the content of the file"
   ]
  },
  {
   "cell_type": "code",
   "execution_count": 29,
   "id": "60c4a946",
   "metadata": {},
   "outputs": [
    {
     "name": "stdout",
     "output_type": "stream",
     "text": [
      "Selmon Bha\n",
      "i\n"
     ]
    }
   ],
   "source": [
    "# moving within a file -> 10 char then 10 char\n",
    "with open('sample.txt', 'r') as f:\n",
    "    print(f.read(10))  # reads the first 10 characters\n",
    "    print(f.read(10))  # reads the next 10 characters\n",
    "    "
   ]
  },
  {
   "cell_type": "code",
   "execution_count": 1,
   "id": "aa6ee195",
   "metadata": {},
   "outputs": [],
   "source": [
    "# benefit ? -> to load a big file in memory\n",
    "big_L = ['hello world' for i in range(1000)]  # creating a big list\n",
    "with open('big_file.txt', 'w') as f:\n",
    "    f.writelines(big_L)  # writing the big list to the file"
   ]
  },
  {
   "cell_type": "code",
   "execution_count": 2,
   "id": "dc5eccd2",
   "metadata": {},
   "outputs": [
    {
     "name": "stdout",
     "output_type": "stream",
     "text": [
      "hello worldhello worldhello worldhello worldhello worldhello worldhello worldhello worldhello worldhello worldhello worldhello worldhello worldhello worldhello worldhello worldhello worldhello worldhello worldhello worldhello worldhello worldhello worldhello worldhello worldhello worldhello worldhello worldhello worldhello worldhello worldhello worldhello worldhello worldhello worldhello worldhello worldhello worldhello worldhello worldhello worldhello worldhello worldhello worldhello worldhello worldhello worldhello worldhello worldhello worldhello worldhello worldhello worldhello worldhello worldhello worldhello worldhello worldhello worldhello worldhello worldhello worldhello worldhello worldhello worldhello worldhello worldhello worldhello worldhello worldhello worldhello worldhello worldhello worldhello worldhello worldhello worldhello worldhello worldhello worldhello worldhello worldhello worldhello worldhello worldhello worldhello worldhello worldhello worldhello worldhello worldhello worldhello worldhello worldhello worldhello worldhello worldhello worldhello worldhello worldhello worldhello worldhello worldhello worldhello worldhello worldhello worldhello worldhello worldhello worldhello worldhello worldhello worldhello worldhello worldhello worldhello worldhello worldhello worldhello worldhello worldhello worldhello worldhello worldhello worldhello worldhello worldhello worldhello worldhello worldhello worldhello worldhello worldhello worldhello worldhello worldhello worldhello worldhello worldhello worldhello worldhello worldhello worldhello worldhello worldhello worldhello worldhello worldhello worldhello worldhello worldhello worldhello worldhello worldhello worldhello worldhello worldhello worldhello worldhello worldhello worldhello worldhello worldhello worldhello worldhello worldhello worldhello worldhello worldhello worldhello worldhello worldhello worldhello worldhello worldhello worldhello worldhello worldhello worldhello worldhello worldhello worldhello worldhello worldhello worldhello worldhello worldhello worldhello worldhello worldhello worldhello worldhello worldhello worldhello worldhello worldhello worldhello worldhello worldhello worldhello worldhello worldhello worldhello worldhello worldhello worldhello worldhello worldhello worldhello worldhello worldhello worldhello worldhello worldhello worldhello worldhello worldhello worldhello worldhello worldhello worldhello worldhello worldhello worldhello worldhello worldhello worldhello worldhello worldhello worldhello worldhello worldhello worldhello worldhello worldhello worldhello worldhello worldhello worldhello worldhello worldhello worldhello worldhello worldhello worldhello worldhello worldhello worldhello worldhello worldhello worldhello worldhello worldhello worldhello worldhello worldhello worldhello worldhello worldhello worldhello worldhello worldhello worldhello worldhello worldhello worldhello worldhello worldhello worldhello worldhello worldhello worldhello worldhello worldhello worldhello worldhello worldhello worldhello worldhello worldhello worldhello worldhello worldhello worldhello worldhello worldhello worldhello worldhello worldhello worldhello worldhello worldhello worldhello worldhello worldhello worldhello worldhello worldhello worldhello worldhello worldhello worldhello worldhello worldhello worldhello worldhello worldhello worldhello worldhello worldhello worldhello worldhello worldhello worldhello worldhello worldhello worldhello worldhello worldhello worldhello worldhello worldhello worldhello worldhello worldhello worldhello worldhello worldhello worldhello worldhello worldhello worldhello worldhello worldhello worldhello worldhello worldhello worldhello worldhello worldhello worldhello worldhello worldhello worldhello worldhello worldhello worldhello worldhello worldhello worldhello worldhello worldhello worldhello worldhello worldhello worldhello worldhello worldhello worldhello worldhello worldhello worldhello worldhello worldhello worldhello worldhello worldhello worldhello worldhello worldhello worldhello worldhello worldhello worldhello worldhello worldhello worldhello worldhello worldhello worldhello worldhello worldhello worldhello worldhello worldhello worldhello worldhello worldhello worldhello worldhello worldhello worldhello worldhello worldhello worldhello worldhello worldhello worldhello worldhello worldhello worldhello worldhello worldhello worldhello worldhello worldhello worldhello worldhello worldhello worldhello worldhello worldhello worldhello worldhello worldhello worldhello worldhello worldhello worldhello worldhello worldhello worldhello worldhello worldhello worldhello worldhello worldhello worldhello worldhello worldhello worldhello worldhello worldhello worldhello worldhello worldhello worldhello worldhello worldhello worldhello worldhello worldhello worldhello worldhello worldhello worldhello worldhello worldhello worldhello worldhello worldhello worldhello worldhello worldhello worldhello worldhello worldhello worldhello worldhello worldhello worldhello worldhello worldhello worldhello worldhello worldhello worldhello worldhello worldhello worldhello worldhello worldhello worldhello worldhello worldhello worldhello worldhello worldhello worldhello worldhello worldhello worldhello worldhello worldhello worldhello worldhello worldhello worldhello worldhello worldhello worldhello worldhello worldhello worldhello worldhello worldhello worldhello worldhello worldhello worldhello worldhello worldhello worldhello worldhello worldhello worldhello worldhello worldhello worldhello worldhello worldhello worldhello worldhello worldhello worldhello worldhello worldhello worldhello worldhello worldhello worldhello worldhello worldhello worldhello worldhello worldhello worldhello worldhello worldhello worldhello worldhello worldhello worldhello worldhello worldhello worldhello worldhello worldhello worldhello worldhello worldhello worldhello worldhello worldhello worldhello worldhello worldhello worldhello worldhello worldhello worldhello worldhello worldhello worldhello worldhello worldhello worldhello worldhello worldhello worldhello worldhello worldhello worldhello worldhello worldhello worldhello worldhello worldhello worldhello worldhello worldhello worldhello worldhello worldhello worldhello worldhello worldhello worldhello worldhello worldhello worldhello worldhello worldhello worldhello worldhello worldhello worldhello worldhello worldhello worldhello worldhello worldhello worldhello worldhello worldhello worldhello worldhello worldhello worldhello worldhello worldhello worldhello worldhello worldhello worldhello worldhello worldhello worldhello worldhello worldhello worldhello worldhello worldhello worldhello worldhello worldhello worldhello worldhello worldhello worldhello worldhello worldhello worldhello worldhello worldhello worldhello worldhello worldhello worldhello worldhello worldhello worldhello worldhello worldhello worldhello worldhello worldhello worldhello worldhello worldhello worldhello worldhello worldhello worldhello worldhello worldhello worldhello worldhello worldhello worldhello worldhello worldhello worldhello worldhello worldhello worldhello worldhello worldhello worldhello worldhello worldhello worldhello worldhello worldhello worldhello worldhello worldhello worldhello worldhello worldhello worldhello worldhello worldhello worldhello worldhello worldhello worldhello worldhello worldhello worldhello worldhello worldhello worldhello worldhello worldhello worldhello worldhello worldhello worldhello worldhello worldhello worldhello worldhello worldhello worldhello worldhello worldhello worldhello worldhello worldhello worldhello worldhello worldhello worldhello worldhello worldhello worldhello worldhello worldhello worldhello worldhello worldhello worldhello worldhello worldhello worldhello worldhello worldhello worldhello worldhello worldhello worldhello worldhello worldhello worldhello worldhello worldhello worldhello worldhello worldhello worldhello worldhello worldhello worldhello worldhello worldhello worldhello worldhello worldhello worldhello worldhello worldhello worldhello worldhello worldhello worldhello worldhello worldhello worldhello worldhello worldhello worldhello worldhello worldhello worldhello worldhello worldhello worldhello worldhello worldhello worldhello worldhello worldhello worldhello worldhello worldhello worldhello worldhello worldhello worldhello worldhello worldhello worldhello worldhello worldhello worldhello worldhello worldhello worldhello worldhello worldhello worldhello worldhello worldhello worldhello worldhello worldhello worldhello worldhello worldhello worldhello worldhello worldhello worldhello worldhello worldhello worldhello worldhello worldhello worldhello worldhello worldhello worldhello worldhello worldhello worldhello worldhello worldhello worldhello worldhello worldhello worldhello worldhello worldhello worldhello worldhello worldhello worldhello worldhello worldhello worldhello worldhello worldhello worldhello worldhello worldhello worldhello worldhello worldhello worldhello worldhello worldhello worldhello worldhello worldhello worldhello worldhello worldhello worldhello worldhello worldhello worldhello worldhello worldhello worldhello worldhello worldhello worldhello worldhello worldhello worldhello worldhello worldhello worldhello worldhello worldhello worldhello worldhello worldhello worldhello worldhello worldhello worldhello worldhello worldhello worldhello worldhello worldhello worldhello worldhello worldhello worldhello worldhello worldhello worldhello worldhello worldhello worldhello worldhello worldhello worldhello worldhello worldhello worldhello worldhello worldhello worldhello worldhello worldhello worldhello worldhello worldhello worldhello worldhello worldhello worldhello worldhello worldhello worldhello worldhello worldhello worldhello worldhello worldhello worldhello worldhello worldhello worldhello worldhello worldhello worldhello worldhello worldhello worldhello worldhello worldhello worldhello worldhello worldhello worldhello worldhello worldhello worldhello worldhello worldhello worldhello worldhello worldhello worldhello worldhello worldhello worldhello worldhello worldhello worldhello worldhello worldhello worldhello worldhello worldhello worldhello worldhello worldhello worldhello worldhello worldhello worldhello worldhello worldhello worldhello worldhello worldhello worldhello worldhello worldhello worldhello worldhello worldhello worldhello worldhello worldhello worldhello worldhello worldhello worldhello worldhello worldhello worldhello worldhello worldhello worldhello worldhello worldhello worldhello worldhello worldhello worldhello worldhello worldhello worldhello worldhello worldhello worldhello worldhello worldhello worldhello worldhello worldhello worldhello worldhello worldhello worldhello worldhello worldhello worldhello worldhello worldhello worldhello worldhello world"
     ]
    }
   ],
   "source": [
    "with open('big_file.txt', 'r') as f:\n",
    "    for line in f:  # reading the file line by line\n",
    "        print(line, end='')  # prints each line without adding extra new lines\n",
    "        break  # just to show the first line, remove this to read the entire file"
   ]
  },
  {
   "cell_type": "code",
   "execution_count": 4,
   "id": "050faaf1",
   "metadata": {},
   "outputs": [
    {
     "name": "stdout",
     "output_type": "stream",
     "text": [
      "ello worldhello worldhello worldhello worldhello worldhello worldhello worldhello worldhello worldhe o worldhello worldhello worldhello worldhello worldhello worldhello worldhello worldhello worldhello orldhello worldhello worldhello worldhello worldhello worldhello worldhello worldhello worldhello wo dhello worldhello worldhello worldhello worldhello worldhello worldhello worldhello worldhello world llo worldhello worldhello worldhello worldhello worldhello worldhello worldhello worldhello worldhel  worldhello worldhello worldhello worldhello worldhello worldhello worldhello worldhello worldhello  rldhello worldhello worldhello worldhello worldhello worldhello worldhello worldhello worldhello wor hello worldhello worldhello worldhello worldhello worldhello worldhello worldhello worldhello worldh lo worldhello worldhello worldhello worldhello worldhello worldhello worldhello worldhello worldhell worldhello worldhello worldhello worldhello worldhello worldhello worldhello worldhello worldhello w ldhello worldhello worldhello worldhello worldhello worldhello worldhello worldhello worldhello worl ello worldhello worldhello worldhello worldhello worldhello worldhello worldhello worldhello worldhe o worldhello worldhello worldhello worldhello worldhello worldhello worldhello worldhello worldhello orldhello worldhello worldhello worldhello worldhello worldhello worldhello worldhello worldhello wo dhello worldhello worldhello worldhello worldhello worldhello worldhello worldhello worldhello world llo worldhello worldhello worldhello worldhello worldhello worldhello worldhello worldhello worldhel  worldhello worldhello worldhello worldhello worldhello worldhello worldhello worldhello worldhello  rldhello worldhello worldhello worldhello worldhello worldhello worldhello worldhello worldhello wor hello worldhello worldhello worldhello worldhello worldhello worldhello worldhello worldhello worldh lo worldhello worldhello worldhello worldhello worldhello worldhello worldhello worldhello worldhell worldhello worldhello worldhello worldhello worldhello worldhello worldhello worldhello worldhello w ldhello worldhello worldhello worldhello worldhello worldhello worldhello worldhello worldhello worl ello worldhello worldhello worldhello worldhello worldhello worldhello worldhello worldhello worldhe o worldhello worldhello worldhello worldhello worldhello worldhello worldhello worldhello worldhello orldhello worldhello worldhello worldhello worldhello worldhello worldhello worldhello worldhello wo dhello worldhello worldhello worldhello worldhello worldhello worldhello worldhello worldhello world llo worldhello worldhello worldhello worldhello worldhello worldhello worldhello worldhello worldhel  worldhello worldhello worldhello worldhello worldhello worldhello worldhello worldhello worldhello  rldhello worldhello worldhello worldhello worldhello worldhello worldhello worldhello worldhello wor hello worldhello worldhello worldhello worldhello worldhello worldhello worldhello worldhello worldh lo worldhello worldhello worldhello worldhello worldhello worldhello worldhello worldhello worldhell worldhello worldhello worldhello worldhello worldhello worldhello worldhello worldhello worldhello w ldhello worldhello worldhello worldhello worldhello worldhello worldhello worldhello worldhello worl ello worldhello worldhello worldhello worldhello worldhello worldhello worldhello worldhello worldhe o worldhello worldhello worldhello worldhello worldhello worldhello worldhello worldhello worldhello orldhello worldhello worldhello worldhello worldhello worldhello worldhello worldhello worldhello wo dhello worldhello worldhello worldhello worldhello worldhello worldhello worldhello worldhello world "
     ]
    }
   ],
   "source": [
    "with open('big_file.txt', 'r') as f:\n",
    "         \n",
    "    chunk_size = 100\n",
    "    \n",
    "    while len(f.read(chunk_size)) > 0:\n",
    "        print(f.read(chunk_size), end=' ')\n",
    "        f.read(chunk_size)  # read the next chunk"
   ]
  },
  {
   "cell_type": "code",
   "execution_count": 7,
   "id": "b68e8f67",
   "metadata": {},
   "outputs": [
    {
     "name": "stdout",
     "output_type": "stream",
     "text": [
      "Selmon Bha\n",
      "10\n"
     ]
    }
   ],
   "source": [
    "# seek and tell function\n",
    "with open('sample.txt', 'r') as f:\n",
    "    print(f.read(10))  # reads the first 10 characters\n",
    "    print(f.tell())  # tells the current position in the file  ...it tells ki kitna read kiya hai\n",
    "    f.seek(0)  # moves the cursor back to the beginning of the file\n",
    "    f.seek(5)  # moves the cursor to the 5th character\n"
   ]
  },
  {
   "cell_type": "markdown",
   "id": "0d38a2ab",
   "metadata": {},
   "source": [
    "# Problem with working in text mode\n",
    " 1. can't work with binary files like images\n",
    " 2. not good for other data types like int/float/list/tuples"
   ]
  },
  {
   "cell_type": "code",
   "execution_count": 8,
   "id": "365e3eb7",
   "metadata": {},
   "outputs": [],
   "source": [
    "# working with binary files\n",
    "with open('screens.jpg', 'rb') as f:  # opening a binary file in read mode\n",
    "    with open('copy_screens.jpg', 'wb') as f2:  # opening a binary file in write mode\n",
    "        f2.write(f.read())"
   ]
  },
  {
   "cell_type": "code",
   "execution_count": 10,
   "id": "0f13de42",
   "metadata": {},
   "outputs": [
    {
     "ename": "TypeError",
     "evalue": "write() argument must be str, not int",
     "output_type": "error",
     "traceback": [
      "\u001b[31m---------------------------------------------------------------------------\u001b[39m",
      "\u001b[31mTypeError\u001b[39m                                 Traceback (most recent call last)",
      "\u001b[36mCell\u001b[39m\u001b[36m \u001b[39m\u001b[32mIn[10]\u001b[39m\u001b[32m, line 3\u001b[39m\n\u001b[32m      1\u001b[39m \u001b[38;5;66;03m# working with other data types\u001b[39;00m\n\u001b[32m      2\u001b[39m \u001b[38;5;28;01mwith\u001b[39;00m \u001b[38;5;28mopen\u001b[39m(\u001b[33m'\u001b[39m\u001b[33msample.txt\u001b[39m\u001b[33m'\u001b[39m, \u001b[33m'\u001b[39m\u001b[33mw\u001b[39m\u001b[33m'\u001b[39m) \u001b[38;5;28;01mas\u001b[39;00m f:\n\u001b[32m----> \u001b[39m\u001b[32m3\u001b[39m     \u001b[43mf\u001b[49m\u001b[43m.\u001b[49m\u001b[43mwrite\u001b[49m\u001b[43m(\u001b[49m\u001b[32;43m6\u001b[39;49m\u001b[43m)\u001b[49m  \u001b[38;5;66;03m# writing a string to the file\u001b[39;00m\n",
      "\u001b[31mTypeError\u001b[39m: write() argument must be str, not int"
     ]
    }
   ],
   "source": [
    "# working with other data types\n",
    "with open('sample.txt', 'w') as f:\n",
    "    f.write(6)  # writing a string to the file"
   ]
  },
  {
   "cell_type": "code",
   "execution_count": null,
   "id": "e4950ada",
   "metadata": {},
   "outputs": [],
   "source": [
    "# this will raise an error because we cannot write an integer to a file directly\n",
    "# we need to convert it to a string first\n",
    "with open('sample.txt', 'w') as f:\n",
    "    f.write(str(6))  # converting integer to string before writing\n",
    "    f.write('\\n')  # adding a new line for better readability"
   ]
  },
  {
   "cell_type": "markdown",
   "id": "5fe128ad",
   "metadata": {},
   "source": [
    "# Serialization and Deserialization\n",
    " 1. Serialization - process of converting python data types to JSON format\n",
    " 2. Deserialization - process of converting JSON to python data types"
   ]
  },
  {
   "cell_type": "markdown",
   "id": "2cedf9b0",
   "metadata": {},
   "source": [
    "What is JSON?"
   ]
  },
  {
   "cell_type": "code",
   "execution_count": 11,
   "id": "c88cb37c",
   "metadata": {},
   "outputs": [],
   "source": [
    "# serialization using json module\n",
    "# List\n",
    "l = [1, 2, 3, 4, 5]\n",
    "\n",
    "import json\n",
    "with open('list.json', 'w') as f:\n",
    "    json.dump(l, f)  # serializing the list to a json file"
   ]
  },
  {
   "cell_type": "code",
   "execution_count": 13,
   "id": "34ec3921",
   "metadata": {},
   "outputs": [],
   "source": [
    "# dict\n",
    "d = {'name': 'John', 'age': 30, 'city': 'New York'}\n",
    "with open('dict.json', 'w') as f:\n",
    "    json.dump(d, f , indent=4)  # serializing the dictionary to a json file"
   ]
  },
  {
   "cell_type": "code",
   "execution_count": 14,
   "id": "e92930eb",
   "metadata": {},
   "outputs": [
    {
     "name": "stdout",
     "output_type": "stream",
     "text": [
      "[1, 2, 3, 4, 5]\n"
     ]
    }
   ],
   "source": [
    "# deserialization\n",
    "with open('list.json', 'r') as f:\n",
    "    l_loaded = json.load(f)  # deserializing the list from the json file\n",
    "    print(l_loaded)  # prints the loaded list"
   ]
  },
  {
   "cell_type": "code",
   "execution_count": null,
   "id": "e82f1360",
   "metadata": {},
   "outputs": [],
   "source": []
  }
 ],
 "metadata": {
  "kernelspec": {
   "display_name": ".venv",
   "language": "python",
   "name": "python3"
  },
  "language_info": {
   "codemirror_mode": {
    "name": "ipython",
    "version": 3
   },
   "file_extension": ".py",
   "mimetype": "text/x-python",
   "name": "python",
   "nbconvert_exporter": "python",
   "pygments_lexer": "ipython3",
   "version": "3.13.3"
  }
 },
 "nbformat": 4,
 "nbformat_minor": 5
}
